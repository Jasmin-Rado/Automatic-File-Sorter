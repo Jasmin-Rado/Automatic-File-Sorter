{
 "cells": [
  {
   "cell_type": "code",
   "execution_count": 2,
   "id": "d516f5c7-ed5d-4d8b-9b8a-2490804c0d1a",
   "metadata": {},
   "outputs": [],
   "source": [
    "import os, shutil"
   ]
  },
  {
   "cell_type": "code",
   "execution_count": 12,
   "id": "49bfbfe5-c461-44ea-b516-a821d76a99c8",
   "metadata": {},
   "outputs": [],
   "source": [
    "path = r\"C:/Users/Jasmin/Desktop/Jupyter/Automation File Sorter Project/\""
   ]
  },
  {
   "cell_type": "code",
   "execution_count": null,
   "id": "639f8009-018d-45e9-8ec8-262152aa638f",
   "metadata": {},
   "outputs": [],
   "source": [
    "#Shows all files - > os.listdir(path)"
   ]
  },
  {
   "cell_type": "code",
   "execution_count": null,
   "id": "d35b517c-da51-493a-af29-e1c4d1a7f640",
   "metadata": {},
   "outputs": [],
   "source": [
    "# Does it exist - > os.path.exists(path)"
   ]
  },
  {
   "cell_type": "code",
   "execution_count": 20,
   "id": "eeb92318-49ff-45a6-a47a-ec81bbaef8d8",
   "metadata": {},
   "outputs": [],
   "source": [
    "names = [\"CSV Files\", \"Image Files\", \"Word Files\", \"Text Files\"]\n",
    "\n",
    "for i in range(0,4):\n",
    "    if not os.path.exists(path + names[i]):\n",
    "        os.makedirs(path + names[i])"
   ]
  },
  {
   "cell_type": "code",
   "execution_count": 34,
   "id": "2031234c-b2ee-4d44-994b-16d6f8d39822",
   "metadata": {},
   "outputs": [],
   "source": [
    " all_files = os.listdir(path)"
   ]
  },
  {
   "cell_type": "code",
   "execution_count": 42,
   "id": "0f3c806e-1ff4-4338-9d94-ea1e07b7ffec",
   "metadata": {},
   "outputs": [],
   "source": [
    "for j in  all_files:\n",
    "    if \".csv\" in j:\n",
    "        shutil.move(path + j , path +\"CSV Files/\" + j)\n",
    "        \n",
    "    elif \".png\" in j or \".jpg\" in j:\n",
    "        shutil.move(path + j , path +\"Image Files/\" + j)\n",
    "        \n",
    "    elif \".txt\" in j:\n",
    "        shutil.move(path + j , path +\"Text Files/\" + j)\n",
    "    \n",
    "    elif \".doc\" in j:\n",
    "        shutil.move(path + j , path +\"Word Files/\" + j)"
   ]
  },
  {
   "cell_type": "code",
   "execution_count": null,
   "id": "1b5ed567-b3ba-4037-96ea-3d7f804dc158",
   "metadata": {},
   "outputs": [],
   "source": []
  }
 ],
 "metadata": {
  "kernelspec": {
   "display_name": "Python 3 (ipykernel)",
   "language": "python",
   "name": "python3"
  },
  "language_info": {
   "codemirror_mode": {
    "name": "ipython",
    "version": 3
   },
   "file_extension": ".py",
   "mimetype": "text/x-python",
   "name": "python",
   "nbconvert_exporter": "python",
   "pygments_lexer": "ipython3",
   "version": "3.12.4"
  }
 },
 "nbformat": 4,
 "nbformat_minor": 5
}
